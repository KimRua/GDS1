{
 "cells": [
  {
   "cell_type": "code",
   "execution_count": 27,
   "metadata": {},
   "outputs": [
    {
     "name": "stdout",
     "output_type": "stream",
     "text": [
      " 2\n",
      "x \n",
      "*\n",
      " 2\n",
      "x \n"
     ]
    },
    {
     "data": {
      "image/png": "[encoded data removed]",
      "text/latex": [
       "$\\displaystyle x + y^{2}$"
      ],
      "text/plain": [
       "     2\n",
       "x + y "
      ]
     },
     "execution_count": 27,
     "metadata": {},
     "output_type": "execute_result"
    }
   ],
   "source": [
    "import sympy as sp\n",
    "sp.init_printing()\n",
    "x, y = sp.symbols('x y')\n",
    "a = ''\n",
    "sp.pprint(x**2)\n",
    "print('*')\n",
    "sp.pprint(x**2)\n",
    "x + y**2"
   ]
  },
  {
   "cell_type": "code",
   "execution_count": 5,
   "metadata": {},
   "outputs": [
    {
     "name": "stdout",
     "output_type": "stream",
     "text": [
      "log_1/5 1/125\n",
      "True\n"
     ]
    }
   ],
   "source": [
    "import math\n",
    "num1 = 5\n",
    "num2 = 125\n",
    "print(f'log_1/{num1} 1/{num2}')\n",
    "num1 = 1/num1\n",
    "num2 = 1/num2\n",
    "result = math.log(num2, num1)\n",
    "print(round(result) == 3)"
   ]
  },
  {
   "cell_type": "code",
   "execution_count": 11,
   "metadata": {},
   "outputs": [
    {
     "name": "stdout",
     "output_type": "stream",
     "text": [
      "1.3333333333333333\n"
     ]
    },
    {
     "ename": "AttributeError",
     "evalue": "'float' object has no attribute 'numerator'",
     "output_type": "error",
     "traceback": [
      "\u001b[0;31m---------------------------------------------------------------------------\u001b[0m",
      "\u001b[0;31mAttributeError\u001b[0m                            Traceback (most recent call last)",
      "Cell \u001b[0;32mIn[11], line 5\u001b[0m\n\u001b[1;32m      3\u001b[0m a \u001b[39m=\u001b[39m \u001b[39m4\u001b[39m\u001b[39m/\u001b[39m\u001b[39m3\u001b[39m\n\u001b[1;32m      4\u001b[0m \u001b[39mprint\u001b[39m(a)\n\u001b[0;32m----> 5\u001b[0m b \u001b[39m=\u001b[39m a\u001b[39m.\u001b[39;49mnumerator\n\u001b[1;32m      6\u001b[0m c \u001b[39m=\u001b[39m a\u001b[39m.\u001b[39mdenominator\n\u001b[1;32m      7\u001b[0m \u001b[39mprint\u001b[39m(Fraction(math\u001b[39m.\u001b[39mlog(\u001b[39m16\u001b[39m, \u001b[39m8\u001b[39m)))\n",
      "\u001b[0;31mAttributeError\u001b[0m: 'float' object has no attribute 'numerator'"
     ]
    }
   ],
   "source": [
    "from fractions import Fraction\n",
    "import math\n",
    "a = 4/3\n",
    "print(a)\n",
    "b = a.numerator\n",
    "c = a.denominator\n",
    "print(Fraction(math.log(16, 8)))\n",
    "print(b/c)\n",
    "result =3\n",
    "print(result)"
   ]
  }
 ],
 "metadata": {
  "kernelspec": {
   "display_name": "Python 3",
   "language": "python",
   "name": "python3"
  },
  "language_info": {
   "codemirror_mode": {
    "name": "ipython",
    "version": 3
   },
   "file_extension": ".py",
   "mimetype": "text/x-python",
   "name": "python",
   "nbconvert_exporter": "python",
   "pygments_lexer": "ipython3",
   "version": "3.11.1"
  },
  "orig_nbformat": 4,
  "vscode": {
   "interpreter": {
    "hash": "aee8b7b246df8f9039afb4144a1f6fd8d2ca17a180786b69acc140d282b71a49"
   }
  }
 },
 "nbformat": 4,
 "nbformat_minor": 2
}
