{
 "cells": [
  {
   "cell_type": "code",
   "execution_count": 13,
   "metadata": {},
   "outputs": [
    {
     "name": "stdout",
     "output_type": "stream",
     "text": [
      "[공돌수1]\n",
      "- 공돌수1 프로젝트는 1인 개발 프로젝트입니다.\n",
      "- 대한민국 수포자들을 돕기 위해 개발되었습니다.\n",
      "- 다양한 문제를 제한 없이 무료로 풀어볼 수 있습니다.\n",
      "- 도움이 필요하시면 -h 혹은 -help 혹은 '도움'을 입력해주세요.\n",
      "- 학생 여러분의 열정을 응원합니다.\n",
      "\n",
      "프로그램을 종료합니다.\n"
     ]
    }
   ],
   "source": [
    "import random\n",
    "import sympy as sp\n",
    "\n",
    "# 교과목 선택 함수\n",
    "def select_subject():\n",
    "    answer = -1\n",
    "    while answer == -1:\n",
    "        answer = error_check(input(\"\\n[단원선택]\\n- 학습하고자하는 단원을 선택해주세요.\\n'지수' : 1\\n'로그' : 2\\n'삼각함수' : 3\\n'수열' : 4\\n입력 : \"), 0, 4)\n",
    "    return answer\n",
    "\n",
    "# 입력 오류 확인 함수 (start~end사이의 정상 값이면 값을, 오류가 나거나 값을 벗어나면 -1을 리턴)\n",
    "def error_check(answer, start=0, end=0):\n",
    "    if answer == 'help' or answer == '도움': return help()\n",
    "    try: answer = eval(answer)\n",
    "    except: return -1\n",
    "    if isinstance(answer, tuple): return answer\n",
    "    if start <= answer <= end or start==end: return answer\n",
    "    else: return -1\n",
    "\n",
    "# help 메소드\n",
    "def help():\n",
    "    print(\"\\n[도움말]\\n- 뒤로가기 : 0\\n- 각 챕터마다\\n답변 : 숫자\\n형태로 주어짐.\\n- 기본적으로 5문제 출제됨.\\n- 정답이 두개 이상인 경우 괄호로 감싸 제출\\n예 : (1, 2)\")\n",
    "    return -1\n",
    "\n",
    "# 지수 교과목\n",
    "def exp():\n",
    "    print(\"\\n[지수]\\n- 문제유형 1, 2, 3, 4 총 4가지가 있습니다.\\n\")\n",
    "    answer = -1\n",
    "    while answer == -1:\n",
    "        answer = error_check(input(\"\\n[지수]\\n- 학습하고자하는 문제 유형을 입력해주세요.\\n거듭제곱 : 1\\n지수법칙 : 2\\n거듭제곱근(실수) : 3\\n미정 : 4\\n입력 : \"), 0, 4)\n",
    "    if answer != 0: # 0이라면 바로 종료\n",
    "        count = 0\n",
    "        for i in range(1, 6): # 5문제 출제\n",
    "            count += exp_problem(i, answer)\n",
    "        print(f'\\n[결과]\\n- {count}/5 문제 맞음. {count*20}점')\n",
    "\n",
    "# 문제 몇 개 맞았는지, 무슨 문제를 맞고 무슨 문제를 틀렸는지, 원래답은 뭐고 뭐라고 대답했는데 등의 채점 결과\n",
    "\n",
    "# 문제 출제 함수 (랜덤, 매스, 그래프 등)\n",
    "def exp_problem(index, category):\n",
    "    print(f'\\n[문제{index}]')\n",
    "    result = 0\n",
    "    if category == 1: # 거듭제곱\n",
    "        a = random.randint(1, 20)\n",
    "        b = random.randint(1, 8)\n",
    "        result = a ** b\n",
    "        print(f'{a}의 {b}제곱을 구하시오.')\n",
    "    elif category == 2: # 지수법칙\n",
    "        x = sp.Symbol('x')\n",
    "        a = random.randint(1, 10)\n",
    "        b = random.randint(1, 10)\n",
    "        # *****************수정해야함****************\n",
    "        pass\n",
    "    elif category == 3: # 거듭제곱근\n",
    "        problem_list = [[8, 3], [-8, 3],\n",
    "                        [81, 4], [-81, 4],\n",
    "                        [121, 2],\n",
    "                        [64, 3], [-64, 3],\n",
    "                        [27, 3], [-27, 3],\n",
    "                        [64, 3], [-64, 3], \n",
    "                        [16, 4], [-16, 4]]\n",
    "        a, b = random.choice(problem_list)\n",
    "        result = (round(abs(a) ** (1/b)), round(-abs(a) ** (1/b))) if b % 2 == 0 else (round(abs(a) ** (1/b) if a > 0 else round(-abs(a)**(1/b))))\n",
    "        print(f'{a}의 {b}제곱근을 구하시오.')\n",
    "\n",
    "    answer = error_check(input('정답을 입력해주세요. : '))\n",
    "    if result == answer:\n",
    "        print('정답')\n",
    "        return 1\n",
    "    else:\n",
    "        print('오답')\n",
    "        return 0\n",
    "    \n",
    "\n",
    "# 지수 부분 완성 후 완성하기\n",
    "def log():\n",
    "    return 0\n",
    "def trig():\n",
    "    return 0\n",
    "def seq():\n",
    "    return 0\n",
    "\n",
    "# 프로그램 종료 함수\n",
    "def exit():\n",
    "    print(\"프로그램을 종료합니다.\")\n",
    "    global main_switch\n",
    "    main_switch = False\n",
    "\n",
    "# 메인 함수\n",
    "def main():\n",
    "    print(\"[공돌수1]\\n- 공돌수1 프로젝트는 1인 개발 프로젝트입니다.\\n- 대한민국 수포자들을 돕기 위해 개발되었습니다.\\n- 다양한 문제를 제한 없이 무료로 풀어볼 수 있습니다.\\n- 도움이 필요하시면 -h 혹은 -help 혹은 '도움'을 입력해주세요.\\n- 학생 여러분의 열정을 응원합니다.\\n\")\n",
    "    \n",
    "    # 함수 모음 딕셔너리\n",
    "    subject_list = {\n",
    "        0 : exit,\n",
    "        1 : exp,\n",
    "        2 : log,\n",
    "        3 : trig,\n",
    "        4 : seq\n",
    "    }\n",
    "    \n",
    "    while main_switch:\n",
    "        answer = select_subject()\n",
    "        subject_list[answer]()\n",
    "        \n",
    "# 프로그램 종료 스위치 선언\n",
    "global main_switch\n",
    "main_switch = True\n",
    "\n",
    "if __name__ == \"__main__\":\n",
    "    main()"
   ]
  },
  {
   "cell_type": "code",
   "execution_count": 14,
   "metadata": {},
   "outputs": [
    {
     "name": "stdout",
     "output_type": "stream",
     "text": [
      "     2\n",
      "x + y \n",
      "     2\n",
      "x + y \n",
      "     2\n",
      "x + y \n"
     ]
    },
    {
     "data": {
      "image/png": "[encoded data removed]",
      "text/latex": [
       "$\\displaystyle x + y^{2}$"
      ],
      "text/plain": [
       "     2\n",
       "x + y "
      ]
     },
     "execution_count": 14,
     "metadata": {},
     "output_type": "execute_result"
    }
   ],
   "source": [
    "import sympy as sp\n",
    "sp.init_printing()\n",
    "x, y = sp.symbols('x y')\n",
    "a = ''\n",
    "while a == '':\n",
    "    a = input()\n",
    "    sp.pprint(x + y**2)\n",
    "x + y**2"
   ]
  }
 ],
 "metadata": {
  "kernelspec": {
   "display_name": "Python 3",
   "language": "python",
   "name": "python3"
  },
  "language_info": {
   "codemirror_mode": {
    "name": "ipython",
    "version": 3
   },
   "file_extension": ".py",
   "mimetype": "text/x-python",
   "name": "python",
   "nbconvert_exporter": "python",
   "pygments_lexer": "ipython3",
   "version": "3.11.1"
  },
  "orig_nbformat": 4,
  "vscode": {
   "interpreter": {
    "hash": "aee8b7b246df8f9039afb4144a1f6fd8d2ca17a180786b69acc140d282b71a49"
   }
  }
 },
 "nbformat": 4,
 "nbformat_minor": 2
}
